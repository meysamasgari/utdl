{
 "cells": [
  {
   "cell_type": "code",
   "execution_count": 1,
   "metadata": {},
   "outputs": [
    {
     "name": "stdout",
     "output_type": "stream",
     "text": [
      "Downloading: Stanford CS224W: Machine Learning with Graphs\n",
      "Stanford CS224W: Machine Learning with Graphs | 2021 | Lecture 1.1 - Why Graphs\n",
      "Stanford CS224W: Machine Learning with Graphs | 2021 | Lecture 1.2 - Applications of Graph ML\n",
      "Stanford CS224W: Machine Learning with Graphs | 2021 | Lecture 1.3 - Choice of Graph Representation​\n",
      "CS224W: Machine Learning with Graphs | 2021 | Lecture 2.1 - Traditional Feature-based Methods: Node\n",
      "CS224W: Machine Learning with Graphs | 2021 | Lecture 2.2 - Traditional Feature-based Methods: Link\n",
      "CS224W: Machine Learning with Graphs | 2021 | Lecture 2.3 - Traditional Feature-based Methods: Graph\n",
      "CS224W: Machine Learning with Graphs | 2021 | Lecture 3.1 - Node Embeddings\n",
      "CS224W: Machine Learning with Graphs | 2021 | Lecture 3.2-Random Walk Approaches for Node Embeddings\n",
      "CS224W: Machine Learning with Graphs | 2021 | Lecture 3.3 - Embedding Entire Graphs\n",
      "CS224W: Machine Learning with Graphs | 2021 | Lecture 4.1 - PageRank\n",
      "CS224W: Machine Learning with Graphs | 2021 | Lecture 4.2 - PageRank: How to Solve?\n",
      "CS224W: Machine Learning with Graphs | 2021 | Lecture 4.3 - Random Walk with Restarts\n",
      "CS224W: Machine Learning with Graphs | 2021 | Lecture 4.4 - Matrix Factorization and Node Embeddings\n",
      "CS224W: Machine Learning with Graphs | 2021 | Lecture 5.1 - Message passing and Node Classification\n",
      "CS224W: Machine Learning with Graphs | 2021 | Lecture 5.2 - Relational and Iterative Classification\n",
      "CS224W: Machine Learning with Graphs | 2021 | Lecture 5.3 - Collective Classification\n",
      "CS224W: Machine Learning with Graphs | 2021 | Lecture 6.1 - Introduction to Graph Neural Networks\n",
      "CS224W: Machine Learning with Graphs | 2021 | Lecture 6.2 - Basics of Deep Learning\n",
      "CS224W: Machine Learning with Graphs | 2021 | Lecture 6.3 - Deep Learning for Graphs\n",
      "CS224W: Machine Learning with Graphs | 2021 | Lecture 7.1 - A general Perspective on GNNs\n",
      "CS224W: Machine Learning with Graphs | 2021 | Lecture 7.2 - A Single Layer of a GNN\n",
      "CS224W: Machine Learning with Graphs | 2021 | Lecture 7.3 - Stacking layers of a GNN\n",
      "CS224W: Machine Learning with Graphs | 2021 | Lecture 8.1 - Graph Augmentation for GNNs\n",
      "CS224W: Machine Learning with Graphs | 2021 | Lecture 8.2 - Training Graph Neural Networks\n",
      "CS224W: Machine Learning with Graphs | 2021 | Lecture 8.3 - Setting up GNN Prediction Tasks\n",
      "CS224W: Machine Learning with Graphs | 2021 | Lecture 9.1 - How Expressive are Graph Neural Networks\n",
      "CS224W: Machine Learning with Graphs | 2021 | Lecture 9.2 - Designing the Most Powerful GNNs\n",
      "CS224W: Machine Learning with Graphs | 2021 | Lecture 10.1-Heterogeneous & Knowledge Graph Embedding\n",
      "CS224W: Machine Learning with Graphs | 2021 | Lecture 10.2 - Knowledge Graph Completion\n",
      "CS224W: Machine Learning with Graphs | 2021 | Lecture 10.3 - Knowledge Graph Completion Algorithms\n",
      "CS224W: Machine Learning with Graphs | 2021 | Lecture 11.1 - Reasoning in Knowledge Graphs\n",
      "CS224W: Machine Learning with Graphs | 2021 | Lecture 11.2 - Answering Predictive Queries\n",
      "CS224W: Machine Learning with Graphs | 2021 | Lecture 11.3 - Query2box: Reasoning over KGs\n",
      "CS224W: Machine Learning with Graphs | 2021 | Lecture 12.1-Fast Neural Subgraph Matching & Counting\n",
      "CS224W: Machine Learning with Graphs | 2021 | Lecture 12.2 - Neural Subgraph Matching\n",
      "CS224W: Machine Learning with Graphs | 2021 | Lecture 12.3 - Finding Frequent Subgraphs\n",
      "CS224W: Machine Learning with Graphs | 2021 | Lecture 13.1 - Community Detection in Networks\n",
      "CS224W: Machine Learning with Graphs | 2021 | Lecture 13.2 - Network Communities\n",
      "CS224W: Machine Learning with Graphs | 2021 | Lecture 13.3 - Louvain Algorithm\n",
      "CS224W: Machine Learning with Graphs | 2021 | Lecture 13.4 - Detecting Overlapping Communities\n",
      "CS224W: Machine Learning with Graphs | 2021 | Lecture 14.1 - Generative Models for Graphs\n",
      "CS224W: Machine Learning with Graphs | 2021 | Lecture 14.2 - Erdos Renyi Random Graphs\n",
      "CS224W: Machine Learning with Graphs | 2021 | Lecture 14.3 - The Small World Model\n",
      "CS224W: Machine Learning with Graphs | 2021 | Lecture 14.4 - Kronecker Graph Model\n",
      "CS224W: Machine Learning with Graphs | 2021 | Lecture 15.1 - Deep Generative Models for Graphs\n",
      "CS224W: Machine Learning with Graphs | 2021 | Lecture 15.2 - Graph RNN: Generating Realistic Graphs\n",
      "CS224W: Machine Learning with Graphs | 2021 | Lecture 15.3 - Scaling Up & Evaluating Graph Gen\n",
      "CS224W: Machine Learning with Graphs | 2021 | Lecture 15.4 - Applications of Deep Graph Generation\n",
      "CS224W: Machine Learning with Graphs | 2021 | Lecture 16.1 - Limitations of Graph Neural Networks\n",
      "CS224W: Machine Learning with Graphs | 2021 | Lecture 16.2 - Position-Aware Graph Neural Networks\n",
      "CS224W: Machine Learning with Graphs | 2021 | Lecture 16.3 - Identity-Aware Graph Neural Networks\n",
      "CS224W: Machine Learning with Graphs | 2021 | Lecture 16.4 - Robustness of Graph Neural Networks\n",
      "CS224W: Machine Learning with Graphs | 2021 | Lecture 17.1 - Scaling up Graph Neural Networks\n",
      "CS224W: Machine Learning with Graphs | 2021 | Lecture 17.2 - GraphSAGE Neighbor Sampling\n",
      "CS224W: Machine Learning with Graphs | 2021 | Lecture 17.3 - Cluster GCN: Scaling up GNNs\n",
      "CS224W: Machine Learning with Graphs | 2021 | Lecture 17.4 - Scaling up by Simplifying GNNs\n",
      "CS224W: Machine Learning with Graphs | 2021 | Lecture 18 - GNNs in Computational Biology\n",
      "CS224W: Machine Learning with Graphs | 2021 | Lecture 19.1 - Pre-Training Graph Neural Networks\n",
      "CS224W: Machine Learning with Graphs | 2021 | Lecture 19.2 - Hyperbolic Graph Embeddings\n",
      "CS224W: Machine Learning with Graphs | 2021 | Lecture 19.3 - Design Space of Graph Neural Networks\n"
     ]
    }
   ],
   "source": [
    "from pytube import Playlist\n",
    "p = Playlist('https://www.youtube.com/playlist?list=PLoROMvodv4rPLKxIpqhjhPgdQy7imNkDn')\n",
    "\n",
    "print(f'Downloading: {p.title}')\n",
    "\n",
    "for video in p.videos:\n",
    "    print(video.title)\n",
    "    st = video.streams.get_highest_resolution()\n",
    "    st.download()\n",
    "    #video.streams.first().download()"
   ]
  }
 ],
 "metadata": {
  "kernelspec": {
   "display_name": "Python 3.9.13 ('.venv': poetry)",
   "language": "python",
   "name": "python3"
  },
  "language_info": {
   "name": "python",
   "version": "3.9.13"
  },
  "orig_nbformat": 4,
  "vscode": {
   "interpreter": {
    "hash": "5bc230acadb4ee2840b0f96f46cb76ebef6a0cdb44adc41313a7ef8b8aa8637e"
   }
  }
 },
 "nbformat": 4,
 "nbformat_minor": 2
}
