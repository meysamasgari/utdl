{
 "cells": [
  {
   "cell_type": "markdown",
   "metadata": {},
   "source": [
    "### Download Youtube Video/Playlist with All Subtitles\n",
    "\n",
    "Pre-requirements: \n",
    "1. Download & Install Python 3.8.10 (https://www.python.org/downloads/)\n",
    "2. Download & Install VSCode (https://code.visualstudio.com/download)\n",
    "3. Install Python & Pylance & Jupyter extensions to VSCode\n",
    "4. Create Project and Add .ipynb File\n",
    "5. Create Virtual ENV (via Termianl) and Set it as Kernel (via VSCode) and Install yt-dlp Package (via pip)\n",
    "\n",
    "Before you Run the Code: (ydl_opts)\n",
    "1. Login to youtube.com (via chrome browser) and export cookie (via Get Cookies.txt) and add it's location path in front of cookiefile in ydl_opts\n",
    "2. Download ffmpeg binary file (https://www.ffmpeg.org/download.html) and add it's location path in front of ffmpeg_locations in ydl_opts\n",
    "3. Specify the location path of outtput file in your computer in front of outtmpl in ydl_opts\n",
    "\n",
    "Finally:\n",
    "Copy Link Address of desired youtube video or playlist and paste it in front of ydl.download and Run the code block\n",
    "\n"
   ]
  },
  {
   "cell_type": "code",
   "execution_count": 29,
   "metadata": {},
   "outputs": [
    {
     "name": "stdout",
     "output_type": "stream",
     "text": [
      "[youtube] Extracting URL: https://www.youtube.com/watch?v=2U29V4MakT4&t=1718s\n",
      "[youtube] 2U29V4MakT4: Downloading webpage\n",
      "[youtube] 2U29V4MakT4: Downloading ios player API JSON\n",
      "[youtube] 2U29V4MakT4: Downloading android player API JSON\n",
      "[youtube] 2U29V4MakT4: Downloading player 820bff3b\n"
     ]
    },
    {
     "name": "stderr",
     "output_type": "stream",
     "text": [
      "WARNING: [youtube] 2U29V4MakT4: nsig extraction failed: You may experience throttling for some formats\n",
      "         n = EKwGkIkBhfjmlAn1 ; player = https://www.youtube.com/s/player/820bff3b/player_ias.vflset/en_US/base.js\n",
      "WARNING: [youtube] 2U29V4MakT4: nsig extraction failed: You may experience throttling for some formats\n",
      "         n = 0_xtDxcgzfdR1n1j ; player = https://www.youtube.com/s/player/820bff3b/player_ias.vflset/en_US/base.js\n"
     ]
    },
    {
     "name": "stdout",
     "output_type": "stream",
     "text": [
      "[youtube] 2U29V4MakT4: Downloading m3u8 information\n",
      "[info] 2U29V4MakT4: Downloading 1 format(s): 616+140\n",
      "[info] There are no subtitles for the requested languages\n",
      "[hlsnative] Downloading m3u8 manifest\n",
      "[hlsnative] Total fragments: 703\n",
      "[download] Destination: /Users/meysam/Downloads/monroe/KSHMR ｜ Tomorrowland Belgium 2019 - W1_mp4.f616.mp4\n",
      "[download]   5.0% of ~   2.09GiB at  776.39KiB/s ETA 02:07:27 (frag 36/703)"
     ]
    },
    {
     "name": "stderr",
     "output_type": "stream",
     "text": [
      "[download] Got error: HTTPSConnectionPool(host='rr4---sn-5hne6nsz.googlevideo.com', port=443): Read timed out. (read timeout=20.0)\n"
     ]
    },
    {
     "name": "stdout",
     "output_type": "stream",
     "text": [
      "[download] fragment not found; Skipping fragment 37 ...\n",
      "[download]  16.4% of ~   2.10GiB at  891.66KiB/s ETA 08:33:22 (frag 116/703)"
     ]
    },
    {
     "name": "stderr",
     "output_type": "stream",
     "text": [
      "[download] Got error: HTTPSConnectionPool(host='rr4---sn-5hne6nsz.googlevideo.com', port=443): Read timed out. (read timeout=20.0)\n"
     ]
    },
    {
     "name": "stdout",
     "output_type": "stream",
     "text": [
      "[download] fragment not found; Skipping fragment 118 ...\n",
      "[download]  21.5% of ~   2.10GiB at  505.25KiB/s ETA 04:03:45 (frag 152/703)"
     ]
    },
    {
     "name": "stderr",
     "output_type": "stream",
     "text": [
      "[download] Got error: HTTPSConnectionPool(host='rr4---sn-5hne6nsz.googlevideo.com', port=443): Read timed out. (read timeout=20.0)\n"
     ]
    },
    {
     "name": "stdout",
     "output_type": "stream",
     "text": [
      "[download] fragment not found; Skipping fragment 155 ...\n"
     ]
    },
    {
     "name": "stderr",
     "output_type": "stream",
     "text": [
      "[download] Got error: HTTPSConnectionPool(host='rr4---sn-5hne6nsz.googlevideo.com', port=443): Read timed out. (read timeout=20.0)\n"
     ]
    },
    {
     "name": "stdout",
     "output_type": "stream",
     "text": [
      "[download] fragment not found; Skipping fragment 156 ...\n"
     ]
    },
    {
     "name": "stderr",
     "output_type": "stream",
     "text": [
      "[download] Got error: HTTPSConnectionPool(host='rr4---sn-5hne6nsz.googlevideo.com', port=443): Read timed out. (read timeout=20.0)\n"
     ]
    },
    {
     "name": "stdout",
     "output_type": "stream",
     "text": [
      "[download] fragment not found; Skipping fragment 157 ...\n"
     ]
    },
    {
     "name": "stderr",
     "output_type": "stream",
     "text": [
      "[download] Got error: HTTPSConnectionPool(host='rr4---sn-5hne6nsz.googlevideo.com', port=443): Read timed out. (read timeout=20.0)\n"
     ]
    },
    {
     "name": "stdout",
     "output_type": "stream",
     "text": [
      "[download] fragment not found; Skipping fragment 158 ...\n"
     ]
    },
    {
     "name": "stderr",
     "output_type": "stream",
     "text": [
      "[download] Got error: HTTPSConnectionPool(host='rr4---sn-5hne6nsz.googlevideo.com', port=443): Read timed out. (read timeout=20.0)\n"
     ]
    },
    {
     "name": "stdout",
     "output_type": "stream",
     "text": [
      "[download] fragment not found; Skipping fragment 159 ...\n"
     ]
    },
    {
     "name": "stderr",
     "output_type": "stream",
     "text": [
      "[download] Got error: HTTPSConnectionPool(host='rr4---sn-5hne6nsz.googlevideo.com', port=443): Read timed out. (read timeout=20.0)\n"
     ]
    },
    {
     "name": "stdout",
     "output_type": "stream",
     "text": [
      "[download] fragment not found; Skipping fragment 160 ...\n"
     ]
    },
    {
     "name": "stderr",
     "output_type": "stream",
     "text": [
      "[download] Got error: HTTPSConnectionPool(host='rr4---sn-5hne6nsz.googlevideo.com', port=443): Read timed out. (read timeout=20.0)\n"
     ]
    },
    {
     "name": "stdout",
     "output_type": "stream",
     "text": [
      "[download] fragment not found; Skipping fragment 161 ...\n",
      "[download]  39.6% of ~   2.06GiB at  124.27KiB/s ETA 02:36:12 (frag 277/703)"
     ]
    },
    {
     "name": "stderr",
     "output_type": "stream",
     "text": [
      "[download] Got error: HTTPSConnectionPool(host='rr4---sn-5hne6nsz.googlevideo.com', port=443): Read timed out.\n"
     ]
    },
    {
     "name": "stdout",
     "output_type": "stream",
     "text": [
      "[download] fragment not found; Skipping fragment 287 ...\n",
      "[download]  86.6% of ~   2.08GiB at  602.04KiB/s ETA 13:51 (frag 608/703)   "
     ]
    },
    {
     "name": "stderr",
     "output_type": "stream",
     "text": [
      "[download] Got error: (\"Connection broken: ConnectionResetError(54, 'Connection reset by peer')\", ConnectionResetError(54, 'Connection reset by peer'))\n"
     ]
    },
    {
     "name": "stdout",
     "output_type": "stream",
     "text": [
      "[download] fragment not found; Skipping fragment 619 ...\n",
      "[download] 100% of    2.05GiB in 01:01:35 at 581.97KiB/s                    \n",
      "[download] Destination: /Users/meysam/Downloads/monroe/KSHMR ｜ Tomorrowland Belgium 2019 - W1_mp4.f140.m4a\n",
      "[download] 100% of   54.38MiB in 00:00:43 at 1.26MiB/s   \n",
      "[Merger] Merging formats into \"/Users/meysam/Downloads/monroe/KSHMR ｜ Tomorrowland Belgium 2019 - W1_mp4.mp4\"\n",
      "Deleting original file /Users/meysam/Downloads/monroe/KSHMR ｜ Tomorrowland Belgium 2019 - W1_mp4.f140.m4a (pass -k to keep)\n",
      "Deleting original file /Users/meysam/Downloads/monroe/KSHMR ｜ Tomorrowland Belgium 2019 - W1_mp4.f616.mp4 (pass -k to keep)\n",
      "Download Successful!\n"
     ]
    }
   ],
   "source": [
    "from __future__ import unicode_literals\n",
    "import yt_dlp\n",
    "\n",
    "ydl_opts = {\n",
    "    \n",
    "    # Authentication/Sign in\n",
    "    'cookiefile':'cookies/www.youtube.com_cookies (7).txt',  # login to youtube via chrome and use Get Cookies.txt plugin on chrome\n",
    "\n",
    "    # Video/Audio Output Format + Postprocessing\n",
    "    'outtmpl': '/Users/meysam/Downloads/youtube/%(title)s_%(ext)s.mp4', # output file name\n",
    "    'format': '(bestvideo[width>=480][ext=mp4]/bestvideo)+bestaudio/best', # video and audio format/quality\n",
    "    'ffmpeg_location':'ffmpeg/ffmpeg', # ffmpeg binary location path for merging video and audio\n",
    " \n",
    "    # Subtitles\n",
    "    # 'allsubtitles': True, # add all subtitles/closed captions\n",
    "    # 'subtitleslangs':'en',\n",
    "    # 'writesubtitles': True, # add subtitle to video\n",
    "    # 'skip_download': True,\n",
    "    'writeautomaticsub': True # add auto-generated subtitles\n",
    "\n",
    "\n",
    "}\n",
    "with yt_dlp.YoutubeDL(ydl_opts) as ydl:\n",
    "    ydl.download(['https://www.youtube.com/watch?v=2U29V4MakT4&t=1718s']) #copy link of video or playlist here\n",
    "    \n",
    "print(\"Download Successful!\")"
   ]
  }
 ],
 "metadata": {
  "kernelspec": {
   "display_name": ".utdl",
   "language": "python",
   "name": "python3"
  },
  "language_info": {
   "codemirror_mode": {
    "name": "ipython",
    "version": 3
   },
   "file_extension": ".py",
   "mimetype": "text/x-python",
   "name": "python",
   "nbconvert_exporter": "python",
   "pygments_lexer": "ipython3",
   "version": "3.8.10"
  }
 },
 "nbformat": 4,
 "nbformat_minor": 2
}
